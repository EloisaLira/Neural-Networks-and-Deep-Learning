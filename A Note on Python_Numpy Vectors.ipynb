{
 "cells": [
  {
   "cell_type": "markdown",
   "id": "b625fc61",
   "metadata": {},
   "source": [
    "# A Note on Python/Numpy Vectors"
   ]
  },
  {
   "cell_type": "markdown",
   "id": "7521c9bd",
   "metadata": {},
   "source": []
  },
  {
   "cell_type": "markdown",
   "id": "aae50c88",
   "metadata": {},
   "source": [
    "Broadcasting é uma facilidade na biblioteca Numpy pore, pode trazer algun efeitos indesejaveis na manipulacao de dados."
   ]
  },
  {
   "cell_type": "markdown",
   "id": "9b895fd2",
   "metadata": {},
   "source": [
    "https://numpy.org/doc/stable/user/basics.broadcasting.html\n",
    "\n",
    "https://www.tutorialspoint.com/numpy/numpy_broadcasting.htm"
   ]
  },
  {
   "cell_type": "code",
   "execution_count": 1,
   "id": "de6e84dd",
   "metadata": {},
   "outputs": [],
   "source": [
    "import numpy as np"
   ]
  },
  {
   "cell_type": "code",
   "execution_count": 2,
   "id": "8621889c",
   "metadata": {},
   "outputs": [],
   "source": [
    "# armazenar cinco variaveis aleatorias gaussianas a matriz a\n",
    "a=np.random.randn(5) "
   ]
  },
  {
   "cell_type": "code",
   "execution_count": 3,
   "id": "db261e3e",
   "metadata": {},
   "outputs": [
    {
     "name": "stdout",
     "output_type": "stream",
     "text": [
      "[-0.99614814  1.36886732  0.70886122  1.16681564 -0.3810899 ]\n"
     ]
    }
   ],
   "source": [
    "print (a)"
   ]
  },
  {
   "cell_type": "code",
   "execution_count": 4,
   "id": "75c3b625",
   "metadata": {},
   "outputs": [
    {
     "name": "stdout",
     "output_type": "stream",
     "text": [
      "(5,)\n"
     ]
    }
   ],
   "source": [
    "print (a.shape) #matriz de ordem 1 em Python\n"
   ]
  },
  {
   "cell_type": "markdown",
   "id": "c80da06a",
   "metadata": {},
   "source": [
    "**Isso nao é nem um vetor linha e tb não é um vetor coluna**"
   ]
  },
  {
   "cell_type": "code",
   "execution_count": 5,
   "id": "fed9bada",
   "metadata": {},
   "outputs": [
    {
     "name": "stdout",
     "output_type": "stream",
     "text": [
      "[-0.99614814  1.36886732  0.70886122  1.16681564 -0.3810899 ]\n"
     ]
    }
   ],
   "source": [
    "print(a.T) #para fazer a transposta"
   ]
  },
  {
   "cell_type": "code",
   "execution_count": 6,
   "id": "a01e66c2",
   "metadata": {},
   "outputs": [
    {
     "name": "stdout",
     "output_type": "stream",
     "text": [
      "4.875281341070462\n"
     ]
    }
   ],
   "source": [
    "# vamos calcular o produto entre a e a sua transposta\n",
    "\n",
    "\n",
    "print(np.dot(a, a.T))"
   ]
  },
  {
   "cell_type": "markdown",
   "id": "dfda0499",
   "metadata": {},
   "source": [
    "# Este produto é errôneo: pois a resposta seria uma nova matriz ao invés de um némero inteiro."
   ]
  },
  {
   "cell_type": "markdown",
   "id": "aad797fc",
   "metadata": {},
   "source": [
    "O que devemos evitar é manipular dados na forma de a. Como **(5, )** isso dara margem para bugs.\n",
    "\n",
    "Para correção deste problema, devemos escrever da seguinte forma abaixo:"
   ]
  },
  {
   "cell_type": "code",
   "execution_count": 8,
   "id": "bebb5e59",
   "metadata": {},
   "outputs": [
    {
     "data": {
      "text/plain": [
       "array([[-1.20997522],\n",
       "       [ 1.0182312 ],\n",
       "       [-0.90772655],\n",
       "       [ 0.12710108],\n",
       "       [ 2.16279819]])"
      ]
     },
     "execution_count": 8,
     "metadata": {},
     "output_type": "execute_result"
    }
   ],
   "source": [
    "a=np.random.randn(5,1)\n",
    "a"
   ]
  },
  {
   "cell_type": "code",
   "execution_count": 9,
   "id": "4672eb8d",
   "metadata": {},
   "outputs": [
    {
     "name": "stdout",
     "output_type": "stream",
     "text": [
      "[[-1.20997522  1.0182312  -0.90772655  0.12710108  2.16279819]]\n"
     ]
    }
   ],
   "source": [
    "print(a.T)"
   ]
  },
  {
   "cell_type": "markdown",
   "id": "02397ad8",
   "metadata": {},
   "source": [
    "**Veja a diferença!**"
   ]
  },
  {
   "cell_type": "code",
   "execution_count": 10,
   "id": "425a697b",
   "metadata": {},
   "outputs": [
    {
     "name": "stdout",
     "output_type": "stream",
     "text": [
      "[[ 1.46404002 -1.23203452  1.09832663 -0.15378916 -2.6169322 ]\n",
      " [-1.23203452  1.03679478 -0.9242755   0.12941829  2.20222859]\n",
      " [ 1.09832663 -0.9242755   0.82396749 -0.11537303 -1.96322934]\n",
      " [-0.15378916  0.12941829 -0.11537303  0.01615469  0.27489399]\n",
      " [-2.6169322   2.20222859 -1.96322934  0.27489399  4.67769599]]\n"
     ]
    }
   ],
   "source": [
    "#Realizando a mesma multiplicação entre vetore\n",
    "\n",
    "print(np.dot(a,a.T))"
   ]
  },
  {
   "cell_type": "markdown",
   "id": "9bd4588b",
   "metadata": {},
   "source": [
    "Por isso, o mesmo vale para o comando abaixo:\n",
    "\n",
    ">a.shape=(5,)\n",
    "\n",
    "o que nao tem comportamento consistente nem de linha e nem coluna. \n",
    "A recomendaçao seria \n",
    ">a.shape=(5,1)"
   ]
  },
  {
   "cell_type": "markdown",
   "id": "dd2e50cb",
   "metadata": {},
   "source": [
    "**reshape** para definir a dimensao que se deseja.\n",
    "\n",
    "**assert** ele checa a dimensao dos vetores."
   ]
  },
  {
   "cell_type": "code",
   "execution_count": 12,
   "id": "336e7e47",
   "metadata": {},
   "outputs": [],
   "source": [
    "#ficando da seguinte forma\n",
    "\n",
    "assert(a.shape==(5,1))\n"
   ]
  },
  {
   "cell_type": "markdown",
   "id": "7c480aaa",
   "metadata": {},
   "source": [
    ">**Concluindo:**\n",
    ">   \n",
    ">    **Sempre use codigos do tipo (n,1) ou (1,n)**"
   ]
  },
  {
   "cell_type": "code",
   "execution_count": null,
   "id": "adf70b96",
   "metadata": {},
   "outputs": [],
   "source": []
  },
  {
   "cell_type": "markdown",
   "id": "649e010d",
   "metadata": {},
   "source": [
    "What kind of array has dimensions in this format: (10, ) ? \n",
    "\n",
    "**A rank 1 array**\n",
    "    \n",
    "    "
   ]
  },
  {
   "cell_type": "code",
   "execution_count": null,
   "id": "41d7849e",
   "metadata": {},
   "outputs": [],
   "source": []
  }
 ],
 "metadata": {
  "kernelspec": {
   "display_name": "Python 3",
   "language": "python",
   "name": "python3"
  },
  "language_info": {
   "codemirror_mode": {
    "name": "ipython",
    "version": 3
   },
   "file_extension": ".py",
   "mimetype": "text/x-python",
   "name": "python",
   "nbconvert_exporter": "python",
   "pygments_lexer": "ipython3",
   "version": "3.8.8"
  }
 },
 "nbformat": 4,
 "nbformat_minor": 5
}
